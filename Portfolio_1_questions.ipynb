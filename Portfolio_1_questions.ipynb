{
 "cells": [
  {
   "cell_type": "markdown",
   "id": "69ac3e9f",
   "metadata": {},
   "source": [
    "\\### Analysis of an E-commerce Dataset\n",
    "\n",
    "We have been provided with a combined e-commerce dataset. In this dataset, each user has the ability to post a rating and review for the products they purchased. Additionally, other users can evaluate the initial rating and review by expressing their trust or distrust.\n",
    "\n",
    "This dataset includes a wealth of information for each user. Details such as their profile, ID, gender, city of birth, product ratings (on a scale of 1-5), reviews, and the prices of the products they purchased are all included. Moreover, for each product rating, we have information about the product name, ID, price, and category, the rating score, the timestamp of the rating and review, and the average helpfulness of the rating given by others (on a scale of 1-5).\n",
    "\n",
    "The dataset is from several data sources, and we have merged all the data into a single CSV file named 'A Combined E-commerce Dataset.csv'. The structure of this dataset is represented in the header shown below.\n",
    "\n",
    "| userId | gender | rating | review| item | category | helpfulness | timestamp | item_id | item_price | user_city|\n",
    "\n",
    "    | ---- | ---- | ---- | ---- | ---- | ---- | ---- | ---- | ---- |  ---- |  ---- |  \n",
    "    \n",
    "#### Description of Fields\n",
    "\n",
    "* __userId__ - the user's id\n",
    "* __gender__ - the user's gender\n",
    "* __rating__ - the user's rating towards the item\n",
    "* __review__ - the user's review towards the item\n",
    "* __item__ - the item's name\n",
    "* __category__ - the category of the item\n",
    "* __helpfulness__ - the average helpfulness of this rating\n",
    "* __timestamp__ - the timestamp when the rating is created\n",
    "* __item_id__ - the item's id\n",
    "* __item_price__ - the item's price\n",
    "* __user_city__ - the city of user's birth\n",
    "\n",
    "Note that, a user may rate multiple items and an item may receive ratings and reviews from multiple users. The \"helpfulness\" is an average value based on all the helpfulness values given by others.\n",
    "\n",
    "There are four questions to explore with the data as shown below.\n",
    "\n",
    "\n",
    "\n",
    "<img src=\"data-relation.png\" align=\"left\" width=\"400\"/>\n"
   ]
  },
  {
   "cell_type": "markdown",
   "id": "d2eea429",
   "metadata": {},
   "source": [
    " #### Q1. Remove missing data\n",
    " \n",
    "Please remove the following records in the csv file: \n",
    " \n",
    " * gender/rating/helpfulness is missing\n",
    " * review is 'none'\n",
    "\n",
    "__Display the DataFrame, counting number of Null values in each column, and print the length of the data__ before and after removing the missing data.  "
   ]
  },
  {
   "cell_type": "code",
   "execution_count": 8,
   "id": "2f6a0c0a",
   "metadata": {
    "scrolled": true
   },
   "outputs": [
    {
     "name": "stdout",
     "output_type": "stream",
     "text": [
      "first 5 rows:    userId  timestamp                           review                  item  \\\n",
      "0    4051      12807        Great job for what it is!                  eBay   \n",
      "1    4052     122899      Free Access Worth your Time               NetZero   \n",
      "2      33      12700    AOL..I love you!!!!!!!!!!!!    AOL (America Online)   \n",
      "3      33      21000     EBAY!!!  I LOVE YOU!!!! :-)*                  eBay   \n",
      "4      33      22300  Blair Witch...Oh Come On.......   Blair Witch Project   \n",
      "\n",
      "   rating  helpfulness gender                  category  item_id  item_price  \\\n",
      "0     5.0          2.0      F  Online Stores & Services       88      149.00   \n",
      "1     5.0          0.0      F  Online Stores & Services       46       53.00   \n",
      "2     5.0          4.0      F  Online Stores & Services        0      145.84   \n",
      "3     5.0          4.0      F  Online Stores & Services       88      149.00   \n",
      "4     1.0          4.0      F                    Movies       12       44.00   \n",
      "\n",
      "   user_city  \n",
      "0         39  \n",
      "1         39  \n",
      "2         31  \n",
      "3         31  \n",
      "4         31  \n",
      "Shape of dataset: (20000, 11)\n"
     ]
    }
   ],
   "source": [
    "# Step 1:Display the dataframe\n",
    "import pandas as pd\n",
    "import numpy as np\n",
    "import matplotlib.pyplot as plt\n",
    "df=pd.read_csv('The E-Commerce Dataset.csv')\n",
    "print('first 5 rows:',df.head())\n",
    "print(\"Shape of dataset:\",df.shape)\n",
    "\n",
    "\n"
   ]
  },
  {
   "cell_type": "code",
   "execution_count": 9,
   "id": "e89ecc33",
   "metadata": {},
   "outputs": [
    {
     "name": "stdout",
     "output_type": "stream",
     "text": [
      "userId          0\n",
      "timestamp       0\n",
      "review          0\n",
      "item            0\n",
      "rating         17\n",
      "helpfulness    22\n",
      "gender         27\n",
      "category        0\n",
      "item_id         0\n",
      "item_price      0\n",
      "user_city       0\n",
      "dtype: int64\n",
      "Number of Items which have not been reviewed: 18\n"
     ]
    }
   ],
   "source": [
    "# Step 2:Count the number of Null values in each column and items with no reviews \n",
    "null_counts = df.isnull().sum()\n",
    "none_counts=  (df['review'] == 'none').sum()\n",
    "print(null_counts)\n",
    "print('Number of Items which have not been reviewed:',none_counts)\n",
    "\n"
   ]
  },
  {
   "cell_type": "code",
   "execution_count": 10,
   "id": "4ad693ac",
   "metadata": {},
   "outputs": [
    {
     "name": "stdout",
     "output_type": "stream",
     "text": [
      "Length of data before removing missing data: 20000\n"
     ]
    }
   ],
   "source": [
    "#  Step 3: The length of the data before removing the missing data\n",
    "length_before = len(df)\n",
    "print(\"Length of data before removing missing data:\", length_before)\n",
    "\n"
   ]
  },
  {
   "cell_type": "code",
   "execution_count": 11,
   "id": "c1ea14c2",
   "metadata": {},
   "outputs": [
    {
     "name": "stdout",
     "output_type": "stream",
     "text": [
      "       userId  timestamp                                    review  \\\n",
      "0        4051      12807                 Great job for what it is!   \n",
      "1        4052     122899               Free Access Worth your Time   \n",
      "2          33      12700             AOL..I love you!!!!!!!!!!!!     \n",
      "3          33      21000              EBAY!!!  I LOVE YOU!!!! :-)*   \n",
      "4          33      22300           Blair Witch...Oh Come On.......   \n",
      "...       ...        ...                                       ...   \n",
      "19995   10805      50600                 The Upper Class Fast Food   \n",
      "19996   10806      82201             What more can you ask for????   \n",
      "19997   10806      82201          Excellent steak for a good price   \n",
      "19998   10807      31504                     Different story world   \n",
      "19999   10808      10200  Boldly Displaying Sigourneys Cleavage ..   \n",
      "\n",
      "                                                    item  rating  helpfulness  \\\n",
      "0                                                   eBay     5.0          2.0   \n",
      "1                                                NetZero     5.0          0.0   \n",
      "2                                   AOL (America Online)     5.0          4.0   \n",
      "3                                                   eBay     5.0          4.0   \n",
      "4                                    Blair Witch Project     1.0          4.0   \n",
      "...                                                  ...     ...          ...   \n",
      "19995                                            Wendy's     2.0          3.0   \n",
      "19996                                       Olive Garden     4.0          0.0   \n",
      "19997                                 Outback Steakhouse     4.0          3.0   \n",
      "19998  J. K. Rowling - Harry Potter and the Sorcerer'...     4.0          0.0   \n",
      "19999                                       Galaxy Quest     4.0          0.0   \n",
      "\n",
      "      gender                  category  item_id  item_price  user_city  \n",
      "0          F  Online Stores & Services       88      149.00         39  \n",
      "1          F  Online Stores & Services       46       53.00         39  \n",
      "2          F  Online Stores & Services        0      145.84         31  \n",
      "3          F  Online Stores & Services       88      149.00         31  \n",
      "4          F                    Movies       12       44.00         31  \n",
      "...      ...                       ...      ...         ...        ...  \n",
      "19995      F     Restaurants & Gourmet       84       69.00         18  \n",
      "19996      M     Restaurants & Gourmet       49       32.00         28  \n",
      "19997      M     Restaurants & Gourmet       50       25.00         28  \n",
      "19998      M                     Books       36       96.00         27  \n",
      "19999      M                    Movies       29       67.00         11  \n",
      "\n",
      "[19916 rows x 11 columns]\n",
      "userId 0\n",
      "timestamp 0\n",
      "review 0\n",
      "item 0\n",
      "rating 0\n",
      "helpfulness 0\n",
      "gender 0\n",
      "category 0\n",
      "item_id 0\n",
      "item_price 0\n",
      "user_city 0\n"
     ]
    }
   ],
   "source": [
    "# Step 4: Drop rows with any missing values in other columns \n",
    "df_cleaned= df.drop(df.index[((df['review']=='none') | (df['gender'].isna()) | (df['helpfulness'].isna())| (df['rating'].isna()))])\n",
    "\n",
    "print(df_cleaned)\n",
    "# To check that they are no outliers left, I ran a Loop \n",
    "for column in df_cleaned:\n",
    "    print(column, df_cleaned[column].isna().sum()) \n"
   ]
  },
  {
   "cell_type": "code",
   "execution_count": 12,
   "id": "8675dc86",
   "metadata": {},
   "outputs": [
    {
     "data": {
      "text/plain": [
       "(19916, 11)"
      ]
     },
     "execution_count": 12,
     "metadata": {},
     "output_type": "execute_result"
    }
   ],
   "source": [
    "#Step 5 : Checking The Shape of the DataSet\n",
    "\n",
    "\n",
    "df_cleaned.shape\n",
    "# I am Checking the Shape of the DataSet to see If i deleted The missing rows"
   ]
  },
  {
   "cell_type": "code",
   "execution_count": 13,
   "id": "43cc7f90",
   "metadata": {},
   "outputs": [
    {
     "name": "stdout",
     "output_type": "stream",
     "text": [
      "Length of data after removing missing data: 19916\n"
     ]
    }
   ],
   "source": [
    "#Step 6 : length after missing data\n",
    "length_after=len(df_cleaned)\n",
    "print(\"Length of data after removing missing data:\", length_after)"
   ]
  },
  {
   "cell_type": "markdown",
   "id": "b830b145",
   "metadata": {},
   "source": [
    "#### Q2. Descriptive statistics\n",
    "\n",
    "With the cleaned data in Q1, please provide the data summarization as below:\n",
    "\n",
    "* Q2.1 total number of unique users, unique reviews, unique items, and unique categories\n",
    "* Q2.2 descriptive statistics, e.g., the total number, mean, std, min and max regarding all rating records\n",
    "* Q2.3 descriptive statistics, e.g., mean, std, max, and min of the number of items rated by different genders \n",
    "* Q2.4 descriptive statistics, e.g., mean, std, max, min of the number of ratings that received by each items \n"
   ]
  },
  {
   "cell_type": "code",
   "execution_count": 14,
   "id": "4c867463",
   "metadata": {},
   "outputs": [
    {
     "name": "stdout",
     "output_type": "stream",
     "text": [
      "\n",
      "Q2.1:\n",
      "Number of Unique Users: 8562\n",
      "Number of Unique Reviews 19459\n",
      "Number of Unique items: 89\n",
      "Number of Unique categories 9\n"
     ]
    }
   ],
   "source": [
    "# Q2.1\n",
    "num_unique_users = len(df_cleaned['userId'].unique())\n",
    "num_unique_reviews = len(df_cleaned['review'].unique())\n",
    "num_unique_items = len(df_cleaned['item'].unique())\n",
    "num_unique_categories = len(df_cleaned['category'].unique())\n",
    "print(\"\\nQ2.1:\")\n",
    "print(\"Number of Unique Users:\",num_unique_users)\n",
    "print(\"Number of Unique Reviews\", num_unique_reviews)\n",
    "print(\"Number of Unique items:\", num_unique_items)\n",
    "print(\"Number of Unique categories\", num_unique_categories)\n",
    "\n"
   ]
  },
  {
   "cell_type": "code",
   "execution_count": 15,
   "id": "6d616b9b",
   "metadata": {},
   "outputs": [
    {
     "name": "stdout",
     "output_type": "stream",
     "text": [
      "\n",
      "Q2.2:\n",
      "Total number of rating records: 19916\n",
      "Mean rating: 3.7017975497087767\n",
      "Standard deviation of ratings: 1.4044507218710944\n",
      "Minimum rating: 1.0\n",
      "Maximum rating: 5.0\n"
     ]
    }
   ],
   "source": [
    "#Q2.2\n",
    "print(\"\\nQ2.2:\")\n",
    "print(\"Total number of rating records:\", len(df_cleaned))\n",
    "print(\"Mean rating:\", df_cleaned['rating'].mean())\n",
    "print(\"Standard deviation of ratings:\", df_cleaned['rating'].std())\n",
    "print(\"Minimum rating:\", df_cleaned['rating'].min())\n",
    "print(\"Maximum rating:\", df_cleaned['rating'].max())\n",
    "\n",
    "\n",
    "#\n"
   ]
  },
  {
   "cell_type": "code",
   "execution_count": 16,
   "id": "04328e3e",
   "metadata": {},
   "outputs": [
    {
     "name": "stdout",
     "output_type": "stream",
     "text": [
      "\n",
      "Q2.3:\n",
      "mean_items_rated_Of_Both_Genders= 9958.0\n",
      "std_items_rated_Of_Both_Genders= 233.3452377915607\n",
      "min_items_rated_Of_Both_Genders= 9793\n",
      "max_items_rated_Of_Both_Genders= 10123\n",
      "gender\n",
      "F     9793\n",
      "M    10123\n",
      "Name: item, dtype: int64\n"
     ]
    }
   ],
   "source": [
    "print(\"\\nQ2.3:\")\n",
    "gender_item_counts = df_cleaned.groupby('gender')['item'].count()\n",
    "#To do this I grouped The gender by itme and ciutned each of Them\n",
    "print(\"mean_items_rated_Of_Both_Genders=\",gender_item_counts.mean())\n",
    "print(\"std_items_rated_Of_Both_Genders=\", gender_item_counts.std())\n",
    "print(\"min_items_rated_Of_Both_Genders=\", gender_item_counts.min())\n",
    "print(\"max_items_rated_Of_Both_Genders=\", gender_item_counts.max())\n",
    "\n",
    "# Asccording to the Data, Make and females have the same data hence they will have the same Descriptive statistics\n",
    "print(gender_item_counts)"
   ]
  },
  {
   "cell_type": "code",
   "execution_count": 17,
   "id": "52ac3541",
   "metadata": {},
   "outputs": [
    {
     "name": "stdout",
     "output_type": "stream",
     "text": [
      "\n",
      "Q2.4:\n",
      "ratings_per_items_mean= 223.77528089887642\n",
      "ratings_per_item_std= 116.4189879085832\n",
      "ratings_per_item_min= 139\n",
      "ratings_per_item_max 939\n",
      "item_id\n",
      "0     939\n",
      "1     657\n",
      "2     157\n",
      "3     240\n",
      "4     185\n",
      "     ... \n",
      "84    210\n",
      "85    160\n",
      "86    245\n",
      "87    173\n",
      "88    596\n",
      "Name: rating, Length: 89, dtype: int64\n"
     ]
    }
   ],
   "source": [
    "#Q2.4\n",
    "print(\"\\nQ2.4:\")\n",
    "\n",
    "ratings_per_item = df_cleaned.groupby('item_id')['rating'].count()\n",
    "\n",
    "print(\"ratings_per_items_mean=\",ratings_per_item.mean())\n",
    "print(\"ratings_per_item_std=\", ratings_per_item.std())\n",
    "print(\"ratings_per_item_min=\", ratings_per_item.min())\n",
    "print(\"ratings_per_item_max\",ratings_per_item.max())\n",
    "\n",
    "print(ratings_per_item)"
   ]
  },
  {
   "cell_type": "markdown",
   "id": "bf0d17d1",
   "metadata": {},
   "source": [
    "#### Q3. Plotting and Analysis\n",
    "\n",
    "Please try to explore the correlation between gender/helpfulness/category and ratings; for instance, do female/male users tend to provide higher ratings than male/female users? Hint: you may use the boxplot function to plot figures for comparison (___Challenge___)\n",
    "    \n",
    "You may need to select the most suitable graphic forms for ease of presentation. Most importantly, for each figure or subfigure, please summarise ___what each plot shows___ (i.e. observations and explanations). Finally, you may need to provide an overall summary of the data."
   ]
  },
  {
   "cell_type": "code",
   "execution_count": 18,
   "id": "11a57cce",
   "metadata": {},
   "outputs": [
    {
     "data": {
      "text/html": [
       "<div>\n",
       "<style scoped>\n",
       "    .dataframe tbody tr th:only-of-type {\n",
       "        vertical-align: middle;\n",
       "    }\n",
       "\n",
       "    .dataframe tbody tr th {\n",
       "        vertical-align: top;\n",
       "    }\n",
       "\n",
       "    .dataframe thead th {\n",
       "        text-align: right;\n",
       "    }\n",
       "</style>\n",
       "<table border=\"1\" class=\"dataframe\">\n",
       "  <thead>\n",
       "    <tr style=\"text-align: right;\">\n",
       "      <th></th>\n",
       "      <th>userId</th>\n",
       "      <th>timestamp</th>\n",
       "      <th>review</th>\n",
       "      <th>item</th>\n",
       "      <th>rating</th>\n",
       "      <th>helpfulness</th>\n",
       "      <th>gender</th>\n",
       "      <th>category</th>\n",
       "      <th>item_id</th>\n",
       "      <th>item_price</th>\n",
       "      <th>user_city</th>\n",
       "    </tr>\n",
       "  </thead>\n",
       "  <tbody>\n",
       "    <tr>\n",
       "      <th>0</th>\n",
       "      <td>4051</td>\n",
       "      <td>12807</td>\n",
       "      <td>Great job for what it is!</td>\n",
       "      <td>eBay</td>\n",
       "      <td>5.0</td>\n",
       "      <td>2.0</td>\n",
       "      <td>F</td>\n",
       "      <td>Online Stores &amp; Services</td>\n",
       "      <td>88</td>\n",
       "      <td>149.00</td>\n",
       "      <td>39</td>\n",
       "    </tr>\n",
       "    <tr>\n",
       "      <th>1</th>\n",
       "      <td>4052</td>\n",
       "      <td>122899</td>\n",
       "      <td>Free Access Worth your Time</td>\n",
       "      <td>NetZero</td>\n",
       "      <td>5.0</td>\n",
       "      <td>0.0</td>\n",
       "      <td>F</td>\n",
       "      <td>Online Stores &amp; Services</td>\n",
       "      <td>46</td>\n",
       "      <td>53.00</td>\n",
       "      <td>39</td>\n",
       "    </tr>\n",
       "    <tr>\n",
       "      <th>2</th>\n",
       "      <td>33</td>\n",
       "      <td>12700</td>\n",
       "      <td>AOL..I love you!!!!!!!!!!!!</td>\n",
       "      <td>AOL (America Online)</td>\n",
       "      <td>5.0</td>\n",
       "      <td>4.0</td>\n",
       "      <td>F</td>\n",
       "      <td>Online Stores &amp; Services</td>\n",
       "      <td>0</td>\n",
       "      <td>145.84</td>\n",
       "      <td>31</td>\n",
       "    </tr>\n",
       "    <tr>\n",
       "      <th>3</th>\n",
       "      <td>33</td>\n",
       "      <td>21000</td>\n",
       "      <td>EBAY!!!  I LOVE YOU!!!! :-)*</td>\n",
       "      <td>eBay</td>\n",
       "      <td>5.0</td>\n",
       "      <td>4.0</td>\n",
       "      <td>F</td>\n",
       "      <td>Online Stores &amp; Services</td>\n",
       "      <td>88</td>\n",
       "      <td>149.00</td>\n",
       "      <td>31</td>\n",
       "    </tr>\n",
       "    <tr>\n",
       "      <th>4</th>\n",
       "      <td>33</td>\n",
       "      <td>22300</td>\n",
       "      <td>Blair Witch...Oh Come On.......</td>\n",
       "      <td>Blair Witch Project</td>\n",
       "      <td>1.0</td>\n",
       "      <td>4.0</td>\n",
       "      <td>F</td>\n",
       "      <td>Movies</td>\n",
       "      <td>12</td>\n",
       "      <td>44.00</td>\n",
       "      <td>31</td>\n",
       "    </tr>\n",
       "    <tr>\n",
       "      <th>...</th>\n",
       "      <td>...</td>\n",
       "      <td>...</td>\n",
       "      <td>...</td>\n",
       "      <td>...</td>\n",
       "      <td>...</td>\n",
       "      <td>...</td>\n",
       "      <td>...</td>\n",
       "      <td>...</td>\n",
       "      <td>...</td>\n",
       "      <td>...</td>\n",
       "      <td>...</td>\n",
       "    </tr>\n",
       "    <tr>\n",
       "      <th>19995</th>\n",
       "      <td>10805</td>\n",
       "      <td>50600</td>\n",
       "      <td>The Upper Class Fast Food</td>\n",
       "      <td>Wendy's</td>\n",
       "      <td>2.0</td>\n",
       "      <td>3.0</td>\n",
       "      <td>F</td>\n",
       "      <td>Restaurants &amp; Gourmet</td>\n",
       "      <td>84</td>\n",
       "      <td>69.00</td>\n",
       "      <td>18</td>\n",
       "    </tr>\n",
       "    <tr>\n",
       "      <th>19996</th>\n",
       "      <td>10806</td>\n",
       "      <td>82201</td>\n",
       "      <td>What more can you ask for????</td>\n",
       "      <td>Olive Garden</td>\n",
       "      <td>4.0</td>\n",
       "      <td>0.0</td>\n",
       "      <td>M</td>\n",
       "      <td>Restaurants &amp; Gourmet</td>\n",
       "      <td>49</td>\n",
       "      <td>32.00</td>\n",
       "      <td>28</td>\n",
       "    </tr>\n",
       "    <tr>\n",
       "      <th>19997</th>\n",
       "      <td>10806</td>\n",
       "      <td>82201</td>\n",
       "      <td>Excellent steak for a good price</td>\n",
       "      <td>Outback Steakhouse</td>\n",
       "      <td>4.0</td>\n",
       "      <td>3.0</td>\n",
       "      <td>M</td>\n",
       "      <td>Restaurants &amp; Gourmet</td>\n",
       "      <td>50</td>\n",
       "      <td>25.00</td>\n",
       "      <td>28</td>\n",
       "    </tr>\n",
       "    <tr>\n",
       "      <th>19998</th>\n",
       "      <td>10807</td>\n",
       "      <td>31504</td>\n",
       "      <td>Different story world</td>\n",
       "      <td>J. K. Rowling - Harry Potter and the Sorcerer'...</td>\n",
       "      <td>4.0</td>\n",
       "      <td>0.0</td>\n",
       "      <td>M</td>\n",
       "      <td>Books</td>\n",
       "      <td>36</td>\n",
       "      <td>96.00</td>\n",
       "      <td>27</td>\n",
       "    </tr>\n",
       "    <tr>\n",
       "      <th>19999</th>\n",
       "      <td>10808</td>\n",
       "      <td>10200</td>\n",
       "      <td>Boldly Displaying Sigourneys Cleavage ..</td>\n",
       "      <td>Galaxy Quest</td>\n",
       "      <td>4.0</td>\n",
       "      <td>0.0</td>\n",
       "      <td>M</td>\n",
       "      <td>Movies</td>\n",
       "      <td>29</td>\n",
       "      <td>67.00</td>\n",
       "      <td>11</td>\n",
       "    </tr>\n",
       "  </tbody>\n",
       "</table>\n",
       "<p>19916 rows × 11 columns</p>\n",
       "</div>"
      ],
      "text/plain": [
       "       userId  timestamp                                    review  \\\n",
       "0        4051      12807                 Great job for what it is!   \n",
       "1        4052     122899               Free Access Worth your Time   \n",
       "2          33      12700             AOL..I love you!!!!!!!!!!!!     \n",
       "3          33      21000              EBAY!!!  I LOVE YOU!!!! :-)*   \n",
       "4          33      22300           Blair Witch...Oh Come On.......   \n",
       "...       ...        ...                                       ...   \n",
       "19995   10805      50600                 The Upper Class Fast Food   \n",
       "19996   10806      82201             What more can you ask for????   \n",
       "19997   10806      82201          Excellent steak for a good price   \n",
       "19998   10807      31504                     Different story world   \n",
       "19999   10808      10200  Boldly Displaying Sigourneys Cleavage ..   \n",
       "\n",
       "                                                    item  rating  helpfulness  \\\n",
       "0                                                   eBay     5.0          2.0   \n",
       "1                                                NetZero     5.0          0.0   \n",
       "2                                   AOL (America Online)     5.0          4.0   \n",
       "3                                                   eBay     5.0          4.0   \n",
       "4                                    Blair Witch Project     1.0          4.0   \n",
       "...                                                  ...     ...          ...   \n",
       "19995                                            Wendy's     2.0          3.0   \n",
       "19996                                       Olive Garden     4.0          0.0   \n",
       "19997                                 Outback Steakhouse     4.0          3.0   \n",
       "19998  J. K. Rowling - Harry Potter and the Sorcerer'...     4.0          0.0   \n",
       "19999                                       Galaxy Quest     4.0          0.0   \n",
       "\n",
       "      gender                  category  item_id  item_price  user_city  \n",
       "0          F  Online Stores & Services       88      149.00         39  \n",
       "1          F  Online Stores & Services       46       53.00         39  \n",
       "2          F  Online Stores & Services        0      145.84         31  \n",
       "3          F  Online Stores & Services       88      149.00         31  \n",
       "4          F                    Movies       12       44.00         31  \n",
       "...      ...                       ...      ...         ...        ...  \n",
       "19995      F     Restaurants & Gourmet       84       69.00         18  \n",
       "19996      M     Restaurants & Gourmet       49       32.00         28  \n",
       "19997      M     Restaurants & Gourmet       50       25.00         28  \n",
       "19998      M                     Books       36       96.00         27  \n",
       "19999      M                    Movies       29       67.00         11  \n",
       "\n",
       "[19916 rows x 11 columns]"
      ]
     },
     "execution_count": 18,
     "metadata": {},
     "output_type": "execute_result"
    }
   ],
   "source": [
    "#Printing the data which has been cleaned in Q1\n",
    "df_cleaned"
   ]
  },
  {
   "cell_type": "code",
   "execution_count": 19,
   "id": "2267f38c",
   "metadata": {},
   "outputs": [
    {
     "data": {
      "text/plain": [
       "<Figure size 1000x600 with 0 Axes>"
      ]
     },
     "metadata": {},
     "output_type": "display_data"
    },
    {
     "data": {
      "image/png": "[encoded data removed]",
      "text/plain": [
       "<Figure size 640x480 with 1 Axes>"
      ]
     },
     "metadata": {},
     "output_type": "display_data"
    }
   ],
   "source": [
    "# Figure 1: Gender and Ratings\n",
    "plt.figure(figsize=(10, 6))\n",
    "df_cleaned.boxplot(column='rating', by='gender', grid=False)\n",
    "plt.title('gender and Ratings')\n",
    "plt.xlabel('gender')\n",
    "plt.ylabel('Rating')\n",
    "plt.suptitle('')\n",
    "plt.show()\n"
   ]
  },
  {
   "cell_type": "markdown",
   "id": "5e00b94b",
   "metadata": {},
   "source": [
    " As Figure 1 shows it is a identical boxplot with each gender and rating. this makes sence becuase their ratings are both between 1 to 5 which means that the mean, Quartile 1 and Quartile 3 will be exactly the same hence no gender is rated better than others "
   ]
  },
  {
   "cell_type": "code",
   "execution_count": 21,
   "id": "fa3a8d42",
   "metadata": {},
   "outputs": [
    {
     "data": {
      "text/plain": [
       "<Figure size 1000x600 with 0 Axes>"
      ]
     },
     "metadata": {},
     "output_type": "display_data"
    },
    {
     "data": {
      "image/png": "[encoded data removed]",
      "text/plain": [
       "<Figure size 640x480 with 1 Axes>"
      ]
     },
     "metadata": {},
     "output_type": "display_data"
    }
   ],
   "source": [
    "# Figure 2: Helpfulness and Ratings\n",
    "plt.figure(figsize=(10, 6))\n",
    "df_cleaned.boxplot(column='rating', by='helpfulness', grid=False)\n",
    "plt.title('Helpfulness and Ratings')\n",
    "plt.xlabel('Helpfulness')\n",
    "plt.ylabel('Rating')\n",
    "plt.suptitle('')\n",
    "plt.show()\n",
    " "
   ]
  },
  {
   "cell_type": "markdown",
   "id": "f0f5619a",
   "metadata": {},
   "source": [
    " Figure 2 shows the relationship between Helpfulness and rating. The boxplot is identical for gender and rating except for when helpfulness is 2.0, then more values are being included thus skewing the box plot to the left."
   ]
  },
  {
   "cell_type": "code",
   "execution_count": 78,
   "id": "0a3cf4c4",
   "metadata": {},
   "outputs": [
    {
     "data": {
      "text/plain": [
       "<Figure size 1200x600 with 0 Axes>"
      ]
     },
     "metadata": {},
     "output_type": "display_data"
    },
    {
     "data": {
      "image/png": "[encoded data removed]",
      "text/plain": [
       "<Figure size 640x480 with 1 Axes>"
      ]
     },
     "metadata": {},
     "output_type": "display_data"
    }
   ],
   "source": [
    "# Figure 3: Category and Ratings\n",
    "plt.figure(figsize=(12, 6))\n",
    "df_cleaned.boxplot(column='rating', by='category', grid=False, rot=45)\n",
    "plt.title('Category and Ratings')\n",
    "plt.xlabel('Category')\n",
    "plt.ylabel('Rating')\n",
    "plt.suptitle('')\n",
    "plt.tight_layout()\n",
    "plt.show()"
   ]
  },
  {
   "cell_type": "markdown",
   "id": "2056fd81",
   "metadata": {},
   "source": [
    "\n",
    "For the category of books nearly all the of the ratings are 100% except for a couple of outliers. \n",
    "\n",
    "For the games category nearly 50% of the ratings ratings are 100%.\n",
    "\n",
    "For the hotels and travel category . The ratings for 25%(q1) are all 2 star reviews however 50%(mean) of the data 4 stars reviews with the boxplot being skewed to the left and then taking a really big up to 5 star for 75%(q3) in the case of this boxplot though the q3= max value.\n",
    "\n",
    "The Kids and family is exactly the same distribution as hotels and games.\n",
    "\n",
    "For media the first 25% of data is equal to minimum value before going up to 50% for mean of 2. The 75% of the data lies between 1-4 with the max being 5 skewing the boxplot to the right.It is teh same plot as kids and family however its skewed in the different direction.\n",
    "\n",
    "For movies 25% of data lies between 1-3 while 50% of data lies between 1-4, 75% lies between 1 and 5 being the same as 100%.\n",
    "\n",
    "For online stores and services it is the same distribution as hotel and travel.\n",
    "\n",
    "For personal finance it is the same distribution as online stores and services.\n",
    "\n",
    "For reestaurant and gourmet it is the exact same as online stores and services.\n",
    "\n",
    "Overall these boxplot shows the relationship between category and ratings. majority of the graphs shows that the ratings are very high.\n",
    "\n",
    "\n",
    "\n"
   ]
  },
  {
   "cell_type": "markdown",
   "id": "bba7c5d4",
   "metadata": {},
   "source": [
    "#### Q4. Detect and remove outliers\n",
    "\n",
    "We may define outlier users, reviews and items with three rules (if a record meets one of the rules, it is regarded as an outlier):\n",
    "\n",
    "* reviews of which the helpfulness is no more than 2\n",
    "* users who rate less than 7 items\n",
    "* items that receives less than 11 ratings \n",
    " \n",
    "Please remove the corresponding records in the csv file that involves outlier users, reviews and items. After that, __print the length of the data__."
   ]
  },
  {
   "cell_type": "code",
   "execution_count": 22,
   "id": "7883e73c",
   "metadata": {},
   "outputs": [
    {
     "data": {
      "text/plain": [
       "2209"
      ]
     },
     "execution_count": 22,
     "metadata": {},
     "output_type": "execute_result"
    }
   ],
   "source": [
    "Data = df_cleaned[df_cleaned['helpfulness'] > 2]\n",
    "\n",
    "# Calculate the number of ratings per user\n",
    "user_rating_counts = Data['userId'].value_counts()\n",
    "\n",
    "# Filter users with at least 7 ratings\n",
    "users_to_keep = user_rating_counts[user_rating_counts > 7].index\n",
    "\n",
    "# Calculate the number of ratings per item\n",
    "item_rating_counts = Data['item_id'].value_counts()\n",
    "\n",
    "# Filter items with at least 11 ratings\n",
    "items_to_keep = item_rating_counts[item_rating_counts > 11].index\n",
    "\n",
    "# Apply both filters using boolean indexing\n",
    "filtered_Data = Data[\n",
    "    (Data['userId'].isin(users_to_keep)) &\n",
    "    (Data['item_id'].isin(items_to_keep))\n",
    "]\n",
    "\n",
    "len(filtered_Data)"
   ]
  },
  {
   "cell_type": "code",
   "execution_count": null,
   "id": "1c1bfcd6",
   "metadata": {},
   "outputs": [],
   "source": []
  }
 ],
 "metadata": {
  "kernelspec": {
   "display_name": "Python 3 (ipykernel)",
   "language": "python",
   "name": "python3"
  },
  "language_info": {
   "codemirror_mode": {
    "name": "ipython",
    "version": 3
   },
   "file_extension": ".py",
   "mimetype": "text/x-python",
   "name": "python",
   "nbconvert_exporter": "python",
   "pygments_lexer": "ipython3",
   "version": "3.11.3"
  }
 },
 "nbformat": 4,
 "nbformat_minor": 5
}
